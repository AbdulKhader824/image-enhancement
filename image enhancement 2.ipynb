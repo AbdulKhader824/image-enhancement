{
 "cells": [
  {
   "cell_type": "code",
   "execution_count": null,
   "id": "73c86341",
   "metadata": {},
   "outputs": [],
   "source": [
    "import os\n",
    "import time\n",
    "from PIL import Image\n",
    "import numpy as np\n",
    "import tensorflow as tf\n",
    "import tensorflow_hub as hub\n",
    "import matplotlib.pyplot as plt\n",
    "os.environ[\"TFHUB_DOWNLOAD_PROGRESS\"] = \"True\""
   ]
  },
  {
   "cell_type": "code",
   "execution_count": null,
   "id": "28dbb3ac",
   "metadata": {},
   "outputs": [],
   "source": [
    "# Declaring Constants\n",
    "IMAGE_PATH =  r\"1.jpg\"\n",
    "SAVED_MODEL_PATH = r\"C:esrgan-tf2_1\""
   ]
  },
  {
   "cell_type": "code",
   "execution_count": null,
   "id": "cf900fb1",
   "metadata": {},
   "outputs": [],
   "source": [
    "def preprocess_image(image_path):\n",
    "  \"\"\" Loads image from path and preprocesses to make it model ready\n",
    "      Args:\n",
    "        image_path: Path to the image file\n",
    "  \"\"\"\n",
    "  hr_image = tf.image.decode_image(tf.io.read_file(image_path))\n",
    "  # If PNG, remove the alpha channel. The model only supports\n",
    "  # images with 3 color channels.\n",
    "  if hr_image.shape[-1] == 4:\n",
    "    hr_image = hr_image[...,:-1]\n",
    "  hr_size = (tf.convert_to_tensor(hr_image.shape[:-1]) // 4) * 4\n",
    "  hr_image = tf.image.crop_to_bounding_box(hr_image, 0, 0, hr_size[0], hr_size[1])\n",
    "  hr_image = tf.cast(hr_image, tf.float32)\n",
    "  return tf.expand_dims(hr_image, 0)\n",
    "\n",
    "def save_image(image, filename):\n",
    "  \"\"\"\n",
    "    Saves unscaled Tensor Images.\n",
    "    Args:\n",
    "      image: 3D image tensor. [height, width, channels]\n",
    "      filename: Name of the file to save.\n",
    "  \"\"\"\n",
    "  if not isinstance(image, Image.Image):\n",
    "    image = tf.clip_by_value(image, 0, 255)\n",
    "    image = Image.fromarray(tf.cast(image, tf.uint8).numpy())\n",
    "  image.save(\"%s.jpg\" % filename)\n",
    "  print(\"Saved as %s.jpg\" % filename)"
   ]
  },
  {
   "cell_type": "code",
   "execution_count": null,
   "id": "c24a7153",
   "metadata": {},
   "outputs": [],
   "source": [
    "%matplotlib inline\n",
    "def plot_image(image, title=\"\"):\n",
    "  \"\"\"\n",
    "    Plots images from image tensors.\n",
    "    Args:\n",
    "      image: 3D image tensor. [height, width, channels].\n",
    "      title: Title to display in the plot.\n",
    "  \"\"\"\n",
    "  image = np.asarray(image)\n",
    "  image = tf.clip_by_value(image, 0, 255)\n",
    "  image = Image.fromarray(tf.cast(image, tf.uint8).numpy())\n",
    "  plt.imshow(image)\n",
    "  plt.axis(\"off\")\n",
    "  plt.title(title)"
   ]
  },
  {
   "cell_type": "code",
   "execution_count": null,
   "id": "623d9b80",
   "metadata": {},
   "outputs": [],
   "source": [
    "hr_image = preprocess_image(IMAGE_PATH)"
   ]
  },
  {
   "cell_type": "code",
   "execution_count": null,
   "id": "e9b3b7fe",
   "metadata": {},
   "outputs": [],
   "source": [
    "# Plotting Original Resolution image\n",
    "plot_image(tf.squeeze(hr_image), title=\"Original Image\")\n",
    "save_image(tf.squeeze(hr_image), filename=\"Original Image\")"
   ]
  },
  {
   "cell_type": "code",
   "execution_count": null,
   "id": "24e4e84e",
   "metadata": {},
   "outputs": [],
   "source": [
    "model = hub.load(SAVED_MODEL_PATH)"
   ]
  },
  {
   "cell_type": "code",
   "execution_count": null,
   "id": "ae41e689",
   "metadata": {},
   "outputs": [],
   "source": [
    "start = time.time()\n",
    "fake_image = model(hr_image)\n",
    "fake_image = tf.squeeze(fake_image)\n",
    "print(\"Time Taken: %f\" % (time.time() - start))"
   ]
  },
  {
   "cell_type": "code",
   "execution_count": null,
   "id": "562e8273",
   "metadata": {},
   "outputs": [],
   "source": [
    "# Plotting Super Resolution Image\n",
    "plot_image(tf.squeeze(fake_image), title=\"Super Resolution\")\n",
    "save_image(tf.squeeze(fake_image), filename=\"Super Resolution\")"
   ]
  },
  {
   "cell_type": "code",
   "execution_count": null,
   "id": "de9db423",
   "metadata": {},
   "outputs": [],
   "source": [
    "import cv2\n",
    "\n",
    "import cv2\n",
    "\n",
    "def enhance_image_clarity(image_path):\n",
    "    # Read the image\n",
    "    image = cv2.imread(image_path)\n",
    "\n",
    "    # Convert the image to grayscale\n",
    "    gray = cv2.cvtColor(image, cv2.COLOR_BGR2GRAY)\n",
    "\n",
    "    # Apply adaptive histogram equalization to enhance contrast\n",
    "    clahe = cv2.createCLAHE(clipLimit=2.0, tileGridSize=(8, 8))\n",
    "    enhanced_gray = clahe.apply(gray)\n",
    "\n",
    "    # Apply bilateral filter to reduce noise while preserving edges\n",
    "    denoised = cv2.bilateralFilter(enhanced_gray, 9, 75, 75)\n",
    "\n",
    "    # Apply Gaussian blur to further enhance the image\n",
    "    blurred = cv2.GaussianBlur(denoised, (9, 9), 0)\n",
    "\n",
    "    # Convert the blurred grayscale image back to color\n",
    "    enhanced_color = cv2.cvtColor(blurred, cv2.COLOR_GRAY2BGR)\n",
    "\n",
    "    # Adjust the color of the enhanced image based on the original image\n",
    "    enhanced_image = cv2.addWeighted(image, 1.5, enhanced_color, -0.3, 0)  # Adjust the beta value here\n",
    "\n",
    "    return enhanced_image\n",
    "\n",
    "# Path to the input image\n",
    "image_path = r\"2.jpeg\"\n",
    "\n",
    "# Enhance the image clarity\n",
    "enhanced_image = enhance_image_clarity(image_path)\n",
    "\n",
    "# Display the original and enhanced images\n",
    "cv2.imshow('Original Image', cv2.imread(image_path))\n",
    "cv2.imshow('Enhanced Image', enhanced_image)\n",
    "\n",
    "# Save the enhanced image\n",
    "output_path = r\"upg.jpeg\"  # Replace with the desired output path and filename\n",
    "cv2.imwrite(output_path, enhanced_image)\n",
    "print(f\"Enhanced image saved at {output_path}\")\n",
    "\n",
    "cv2.waitKey(0)\n",
    "cv2.destroyAllWindows()"
   ]
  },
  {
   "cell_type": "code",
   "execution_count": null,
   "id": "e47ec6e4",
   "metadata": {},
   "outputs": [],
   "source": [
    "def FuzzyContrastEnhance(rgb):\n",
    "    # Convert RGB to LAB\n",
    "    lab = cv2.cvtColor(rgb, cv2.COLOR_RGB2LAB)\n",
    "    \n",
    "    # Get L channel\n",
    "    l = lab[:, :, 0]\n",
    "    \n",
    "    # Calculate M value\n",
    "    M = np.mean(l)\n",
    "    if M < 128:\n",
    "        M = 127 - (127 - M)/2\n",
    "    else:\n",
    "        M = 128 + M/2\n",
    "        \n",
    "    # Precompute the fuzzy transform\n",
    "    x = list(range(-50,306))\n",
    "    FuzzyTransform = dict(zip(x,[Infer(np.array([i]), M) for i in x]))\n",
    "    \n",
    "    # Apply the transform to l channel\n",
    "    u, inv = np.unique(l, return_inverse = True)\n",
    "    l = np.array([FuzzyTransform[i] for i in u])[inv].reshape(l.shape)\n",
    "    \n",
    "    # Min-max scale the output L channel to fit (0, 255):\n",
    "    Min = np.min(l)\n",
    "    Max = np.max(l)\n",
    "    lab[:, :, 0] = (l - Min)/(Max - Min) * 255\n",
    "    \n",
    "    # Convert LAB to RGB\n",
    "    return cv2.cvtColor(lab, cv2.COLOR_LAB2RGB)\n"
   ]
  },
  {
   "cell_type": "code",
   "execution_count": null,
   "id": "2c422a6f",
   "metadata": {},
   "outputs": [],
   "source": [
    "for i in range(data.shape[0]):\n",
    "    img = data[i]\n",
    "    fce = FuzzyContrastEnhance(img)\n",
    "    he = HE(img)\n",
    "    clahe = CLAHE(img) \n",
    "    display(Markdown(f'### <p style=\"text-align: center;\">Sample Photo {i+1}</p>'))\n",
    "    plt.figure(figsize=(15, 10))\n",
    "    plt.subplot(2, 2, 1)\n",
    "    plt.imshow(data[i])\n",
    "    plt.title('Original Image')"
   ]
  },
  {
   "cell_type": "code",
   "execution_count": null,
   "id": "1a421f28",
   "metadata": {},
   "outputs": [],
   "source": [
    "# Convert color channel order from RGB to BGR\n",
    "enhanced_image_bgr = cv2.cvtColor(fce, cv2.COLOR_RGB2BGR)\n",
    "\n",
    "# Save the enhanced image\n",
    "cv2.imwrite('enhanced_image.jpg', enhanced_image_bgr)"
   ]
  }
 ],
 "metadata": {
  "kernelspec": {
   "display_name": "Python 3 (ipykernel)",
   "language": "python",
   "name": "python3"
  },
  "language_info": {
   "codemirror_mode": {
    "name": "ipython",
    "version": 3
   },
   "file_extension": ".py",
   "mimetype": "text/x-python",
   "name": "python",
   "nbconvert_exporter": "python",
   "pygments_lexer": "ipython3",
   "version": "3.11.3"
  }
 },
 "nbformat": 4,
 "nbformat_minor": 5
}
